{
  "nbformat": 4,
  "nbformat_minor": 0,
  "metadata": {
    "colab": {
      "provenance": []
    },
    "kernelspec": {
      "name": "python3",
      "display_name": "Python 3"
    },
    "language_info": {
      "name": "python"
    }
  },
  "cells": [
    {
      "cell_type": "code",
      "source": [
        "from google.colab import files\n",
        "uploaded = files.upload()"
      ],
      "metadata": {
        "colab": {
          "base_uri": "https://localhost:8080/",
          "height": 142
        },
        "id": "tYt-dwFUfaRo",
        "outputId": "1253d4e0-005e-41a5-dad0-3fbeea19c0c6"
      },
      "execution_count": 4,
      "outputs": [
        {
          "output_type": "display_data",
          "data": {
            "text/plain": [
              "<IPython.core.display.HTML object>"
            ],
            "text/html": [
              "\n",
              "     <input type=\"file\" id=\"files-6c448bd0-7756-4c00-b481-28a9026390e5\" name=\"files[]\" multiple disabled\n",
              "        style=\"border:none\" />\n",
              "     <output id=\"result-6c448bd0-7756-4c00-b481-28a9026390e5\">\n",
              "      Upload widget is only available when the cell has been executed in the\n",
              "      current browser session. Please rerun this cell to enable.\n",
              "      </output>\n",
              "      <script>// Copyright 2017 Google LLC\n",
              "//\n",
              "// Licensed under the Apache License, Version 2.0 (the \"License\");\n",
              "// you may not use this file except in compliance with the License.\n",
              "// You may obtain a copy of the License at\n",
              "//\n",
              "//      http://www.apache.org/licenses/LICENSE-2.0\n",
              "//\n",
              "// Unless required by applicable law or agreed to in writing, software\n",
              "// distributed under the License is distributed on an \"AS IS\" BASIS,\n",
              "// WITHOUT WARRANTIES OR CONDITIONS OF ANY KIND, either express or implied.\n",
              "// See the License for the specific language governing permissions and\n",
              "// limitations under the License.\n",
              "\n",
              "/**\n",
              " * @fileoverview Helpers for google.colab Python module.\n",
              " */\n",
              "(function(scope) {\n",
              "function span(text, styleAttributes = {}) {\n",
              "  const element = document.createElement('span');\n",
              "  element.textContent = text;\n",
              "  for (const key of Object.keys(styleAttributes)) {\n",
              "    element.style[key] = styleAttributes[key];\n",
              "  }\n",
              "  return element;\n",
              "}\n",
              "\n",
              "// Max number of bytes which will be uploaded at a time.\n",
              "const MAX_PAYLOAD_SIZE = 100 * 1024;\n",
              "\n",
              "function _uploadFiles(inputId, outputId) {\n",
              "  const steps = uploadFilesStep(inputId, outputId);\n",
              "  const outputElement = document.getElementById(outputId);\n",
              "  // Cache steps on the outputElement to make it available for the next call\n",
              "  // to uploadFilesContinue from Python.\n",
              "  outputElement.steps = steps;\n",
              "\n",
              "  return _uploadFilesContinue(outputId);\n",
              "}\n",
              "\n",
              "// This is roughly an async generator (not supported in the browser yet),\n",
              "// where there are multiple asynchronous steps and the Python side is going\n",
              "// to poll for completion of each step.\n",
              "// This uses a Promise to block the python side on completion of each step,\n",
              "// then passes the result of the previous step as the input to the next step.\n",
              "function _uploadFilesContinue(outputId) {\n",
              "  const outputElement = document.getElementById(outputId);\n",
              "  const steps = outputElement.steps;\n",
              "\n",
              "  const next = steps.next(outputElement.lastPromiseValue);\n",
              "  return Promise.resolve(next.value.promise).then((value) => {\n",
              "    // Cache the last promise value to make it available to the next\n",
              "    // step of the generator.\n",
              "    outputElement.lastPromiseValue = value;\n",
              "    return next.value.response;\n",
              "  });\n",
              "}\n",
              "\n",
              "/**\n",
              " * Generator function which is called between each async step of the upload\n",
              " * process.\n",
              " * @param {string} inputId Element ID of the input file picker element.\n",
              " * @param {string} outputId Element ID of the output display.\n",
              " * @return {!Iterable<!Object>} Iterable of next steps.\n",
              " */\n",
              "function* uploadFilesStep(inputId, outputId) {\n",
              "  const inputElement = document.getElementById(inputId);\n",
              "  inputElement.disabled = false;\n",
              "\n",
              "  const outputElement = document.getElementById(outputId);\n",
              "  outputElement.innerHTML = '';\n",
              "\n",
              "  const pickedPromise = new Promise((resolve) => {\n",
              "    inputElement.addEventListener('change', (e) => {\n",
              "      resolve(e.target.files);\n",
              "    });\n",
              "  });\n",
              "\n",
              "  const cancel = document.createElement('button');\n",
              "  inputElement.parentElement.appendChild(cancel);\n",
              "  cancel.textContent = 'Cancel upload';\n",
              "  const cancelPromise = new Promise((resolve) => {\n",
              "    cancel.onclick = () => {\n",
              "      resolve(null);\n",
              "    };\n",
              "  });\n",
              "\n",
              "  // Wait for the user to pick the files.\n",
              "  const files = yield {\n",
              "    promise: Promise.race([pickedPromise, cancelPromise]),\n",
              "    response: {\n",
              "      action: 'starting',\n",
              "    }\n",
              "  };\n",
              "\n",
              "  cancel.remove();\n",
              "\n",
              "  // Disable the input element since further picks are not allowed.\n",
              "  inputElement.disabled = true;\n",
              "\n",
              "  if (!files) {\n",
              "    return {\n",
              "      response: {\n",
              "        action: 'complete',\n",
              "      }\n",
              "    };\n",
              "  }\n",
              "\n",
              "  for (const file of files) {\n",
              "    const li = document.createElement('li');\n",
              "    li.append(span(file.name, {fontWeight: 'bold'}));\n",
              "    li.append(span(\n",
              "        `(${file.type || 'n/a'}) - ${file.size} bytes, ` +\n",
              "        `last modified: ${\n",
              "            file.lastModifiedDate ? file.lastModifiedDate.toLocaleDateString() :\n",
              "                                    'n/a'} - `));\n",
              "    const percent = span('0% done');\n",
              "    li.appendChild(percent);\n",
              "\n",
              "    outputElement.appendChild(li);\n",
              "\n",
              "    const fileDataPromise = new Promise((resolve) => {\n",
              "      const reader = new FileReader();\n",
              "      reader.onload = (e) => {\n",
              "        resolve(e.target.result);\n",
              "      };\n",
              "      reader.readAsArrayBuffer(file);\n",
              "    });\n",
              "    // Wait for the data to be ready.\n",
              "    let fileData = yield {\n",
              "      promise: fileDataPromise,\n",
              "      response: {\n",
              "        action: 'continue',\n",
              "      }\n",
              "    };\n",
              "\n",
              "    // Use a chunked sending to avoid message size limits. See b/62115660.\n",
              "    let position = 0;\n",
              "    do {\n",
              "      const length = Math.min(fileData.byteLength - position, MAX_PAYLOAD_SIZE);\n",
              "      const chunk = new Uint8Array(fileData, position, length);\n",
              "      position += length;\n",
              "\n",
              "      const base64 = btoa(String.fromCharCode.apply(null, chunk));\n",
              "      yield {\n",
              "        response: {\n",
              "          action: 'append',\n",
              "          file: file.name,\n",
              "          data: base64,\n",
              "        },\n",
              "      };\n",
              "\n",
              "      let percentDone = fileData.byteLength === 0 ?\n",
              "          100 :\n",
              "          Math.round((position / fileData.byteLength) * 100);\n",
              "      percent.textContent = `${percentDone}% done`;\n",
              "\n",
              "    } while (position < fileData.byteLength);\n",
              "  }\n",
              "\n",
              "  // All done.\n",
              "  yield {\n",
              "    response: {\n",
              "      action: 'complete',\n",
              "    }\n",
              "  };\n",
              "}\n",
              "\n",
              "scope.google = scope.google || {};\n",
              "scope.google.colab = scope.google.colab || {};\n",
              "scope.google.colab._files = {\n",
              "  _uploadFiles,\n",
              "  _uploadFilesContinue,\n",
              "};\n",
              "})(self);\n",
              "</script> "
            ]
          },
          "metadata": {}
        },
        {
          "output_type": "stream",
          "name": "stdout",
          "text": [
            "Saving customer.csv to customer.csv\n",
            "Saving marketing_campaign.csv to marketing_campaign.csv\n",
            "Saving sales.csv to sales.csv\n"
          ]
        }
      ]
    },
    {
      "cell_type": "code",
      "execution_count": 15,
      "metadata": {
        "id": "yLPUA_k2eZY1"
      },
      "outputs": [],
      "source": [
        "import pandas as pd\n",
        "import chromadb\n",
        "from sentence_transformers import SentenceTransformer\n",
        "\n",
        "# Load the embedding model\n",
        "# 📌 We used the 'all-MiniLM-L6-v2' model from SentenceTransformers for the following reasons:\n",
        "# - It is lightweight, fast, and optimized for semantic similarity tasks (perfect for use in vector databases).\n",
        "# - It balances performance and speed, making it ideal for interactive querying.\n",
        "# - It provides embeddings with 384 dimensions — efficient for both local use and small to medium datasets.\n",
        "embedding_model = SentenceTransformer(\"all-MiniLM-L6-v2\")\n",
        "\n",
        "# Initialize ChromaDB\n",
        "chroma_client = chromadb.PersistentClient(path=\"./chroma_db\")\n",
        "\n",
        "# There are more powerful alternatives available based on our needs:\n",
        "# 1. 'all-mpnet-base-v2' – Higher accuracy, larger size (~768 dims).\n",
        "# 2. 'paraphrase-MiniLM-L12-v2' – Slightly better than L6-v2, still fast.\n",
        "# 3. OpenAI embeddings – Very powerful but not free.\n",
        "# 4. Cohere embeddings – Also strong and fast, but paid.\n",
        "\n",
        "#  For OpenAI's embedding model ('text-embedding-ada-002'):\n",
        "# - Pricing: $0.0001 per 1K tokens (as of now)\n",
        "# - Example: 100,000 records of 100 tokens each = ~$1.00\n",
        "\n",
        "# We chose 'all-MiniLM-L6-v2' because:\n",
        "# - It's open-source and free to use\n",
        "# - It doesn't require internet/API access (can be used offline)\n",
        "# - Perfect for prototyping and mid-size production workloads\n"
      ]
    },
    {
      "cell_type": "code",
      "source": [
        "sales_df = pd.read_csv(\"sales.csv\")\n",
        "customer_df = pd.read_csv(\"customer.csv\")\n",
        "campaign_df = pd.read_csv(\"marketing_campaign.csv\")\n"
      ],
      "metadata": {
        "id": "O6LRDYaxekun"
      },
      "execution_count": 7,
      "outputs": []
    },
    {
      "cell_type": "code",
      "source": [
        "def chunk_sales_data(row):\n",
        "    return (\n",
        "        f\"Sale ID: {row['sale_id']}, Customer ID: {row['customer_id']}, \"\n",
        "        f\"Model: {row['model']} ({row['model_variant']}), Car Type: {row['cartype']}, \"\n",
        "        f\"Fuel: {row['fuel_variant']}, Region: {row['region']}, City: {row['city']}, \"\n",
        "        f\"Date: {row['sale_date']}, Amount: {row['sale_amount']}\"\n",
        "    )\n",
        "\n",
        "def chunk_customer_data(row):\n",
        "    return (\n",
        "        f\"Customer ID: {row['customer_id']}, Age: {row['age']}, Gender: {row['gender']}, \"\n",
        "        f\"Preferred Model: {row['preferred_model']} ({row['preferred_model_variant']}), \"\n",
        "        f\"Car Type: {row['preferred_cartype']}, Fuel: {row['preferred_fuel_variant']}, \"\n",
        "        f\"Purchase Type: {row['purchase_type']}\"\n",
        "    )\n",
        "\n",
        "def chunk_campaign_data(row):\n",
        "    return (\n",
        "        f\"Campaign ID: {row['campaign_id']}, Name: {row['campaign_name']}, \"\n",
        "        f\"Start: {row['start_date']}, End: {row['end_date']}, \"\n",
        "        f\"Channel: {row['marketing_channel']}, Target Car: {row['target_cartype']}, \"\n",
        "        f\"Audience: {row['target_audience']}, Discount: {row['discount_percent']}%, \"\n",
        "        f\"Expected Sales: {row['expected_sales']}, Actual Sales: {row['actual_sales']}\"\n",
        "    )\n"
      ],
      "metadata": {
        "id": "ArhWdCn5f0rS"
      },
      "execution_count": 8,
      "outputs": []
    },
    {
      "cell_type": "code",
      "source": [
        "sales_chunks = sales_df.apply(chunk_sales_data, axis=1).tolist()\n",
        "customer_chunks = customer_df.apply(chunk_customer_data, axis=1).tolist()\n",
        "campaign_chunks = campaign_df.apply(chunk_campaign_data, axis=1).tolist()\n",
        "\n",
        "sales_metadata = sales_df[[\"city\", \"cartype\", \"model\"]].rename(columns={\"cartype\": \"car_type\"}).to_dict(orient=\"records\")\n",
        "customer_metadata = customer_df.to_dict(orient=\"records\")\n",
        "campaign_metadata = campaign_df.to_dict(orient=\"records\")\n"
      ],
      "metadata": {
        "id": "WvVVPCL_f3Q9"
      },
      "execution_count": 9,
      "outputs": []
    },
    {
      "cell_type": "code",
      "source": [
        "# Sales\n",
        "sales_collection = chroma_client.get_or_create_collection(\"sales_data\")\n",
        "sales_embeddings = embedding_model.encode(sales_chunks).tolist()\n",
        "sales_collection.add(\n",
        "    documents=sales_chunks,\n",
        "    embeddings=sales_embeddings,\n",
        "    ids=[f\"sale_{i}\" for i in range(len(sales_chunks))],\n",
        "    metadatas=sales_metadata\n",
        ")\n",
        "\n",
        "# Customers\n",
        "customer_collection = chroma_client.get_or_create_collection(\"customer_data\")\n",
        "customer_embeddings = embedding_model.encode(customer_chunks).tolist()\n",
        "customer_collection.add(\n",
        "    documents=customer_chunks,\n",
        "    embeddings=customer_embeddings,\n",
        "    ids=[f\"cust_{i}\" for i in range(len(customer_chunks))],\n",
        "    metadatas=customer_metadata\n",
        ")\n",
        "\n",
        "# Campaigns\n",
        "campaign_collection = chroma_client.get_or_create_collection(\"campaign_data\")\n",
        "campaign_embeddings = embedding_model.encode(campaign_chunks).tolist()\n",
        "campaign_collection.add(\n",
        "    documents=campaign_chunks,\n",
        "    embeddings=campaign_embeddings,\n",
        "    ids=[f\"camp_{i}\" for i in range(len(campaign_chunks))],\n",
        "    metadatas=campaign_metadata\n",
        ")\n",
        "\n",
        "print(\"✅ All datasets embedded and stored in ChromaDB!\")\n"
      ],
      "metadata": {
        "colab": {
          "base_uri": "https://localhost:8080/"
        },
        "id": "FonB6rnkf7Xt",
        "outputId": "d38e0528-d06b-47c0-a2bc-41642c78e76f"
      },
      "execution_count": 10,
      "outputs": [
        {
          "output_type": "stream",
          "name": "stdout",
          "text": [
            "✅ All datasets embedded and stored in ChromaDB!\n"
          ]
        }
      ]
    },
    {
      "cell_type": "code",
      "source": [
        "results = sales_collection.query(\n",
        "    query_texts=[\"SUV sales in Bangalore\"],\n",
        "    n_results=5,\n",
        "    where={\"$and\": [{\"city\": \"Bangalore\"}, {\"car_type\": \"SUV\"}]},\n",
        "    include=[\"documents\", \"metadatas\", \"distances\"]\n",
        ")\n"
      ],
      "metadata": {
        "colab": {
          "base_uri": "https://localhost:8080/"
        },
        "id": "3jfg_e_igH8s",
        "outputId": "8347033c-327a-4bbe-b09c-6b8c23c7d49a"
      },
      "execution_count": 11,
      "outputs": [
        {
          "output_type": "stream",
          "name": "stderr",
          "text": [
            "/root/.cache/chroma/onnx_models/all-MiniLM-L6-v2/onnx.tar.gz: 100%|██████████| 79.3M/79.3M [00:03<00:00, 23.5MiB/s]\n"
          ]
        }
      ]
    },
    {
      "cell_type": "code",
      "source": [
        "for doc, meta, dist in zip(results[\"documents\"][0], results[\"metadatas\"][0], results[\"distances\"][0]):\n",
        "    print(\"📄\", doc)\n",
        "    print(f\"📍 City: {meta.get('city')} | 🚗 Model: {meta.get('model')}\")\n",
        "    print(f\"🔍 Similarity Score: {round(1 - dist, 2)}\")\n",
        "    print(\"---\")\n"
      ],
      "metadata": {
        "colab": {
          "base_uri": "https://localhost:8080/"
        },
        "id": "5_gwLo4LgN6o",
        "outputId": "c0d8a968-0059-4bec-e9b9-05f072a062e8"
      },
      "execution_count": 12,
      "outputs": [
        {
          "output_type": "stream",
          "name": "stdout",
          "text": [
            "📄 Sale ID: SALE0021, Customer ID: CUST079, Model: Maruti Suzuki Brezza (Mid), Car Type: SUV, Fuel: Diesel, Region: South, City: Bangalore, Date: 2024-11-12, Amount: 4552301.01\n",
            "📍 City: Bangalore | 🚗 Model: Maruti Suzuki Brezza\n",
            "🔍 Similarity Score: 0.17\n",
            "---\n",
            "📄 Sale ID: SALE0441, Customer ID: CUST181, Model: MG Hector (Mid), Car Type: SUV, Fuel: Hybrid, Region: South-West, City: Bangalore, Date: 2024-08-02, Amount: 2617390.21\n",
            "📍 City: Bangalore | 🚗 Model: MG Hector\n",
            "🔍 Similarity Score: 0.11\n",
            "---\n",
            "📄 Sale ID: SALE0384, Customer ID: CUST181, Model: Kia Seltos (Base), Car Type: SUV, Fuel: Diesel, Region: North-West, City: Bangalore, Date: 2024-01-26, Amount: 1316578.88\n",
            "📍 City: Bangalore | 🚗 Model: Kia Seltos\n",
            "🔍 Similarity Score: 0.02\n",
            "---\n",
            "📄 Sale ID: SALE0290, Customer ID: CUST056, Model: Renault Duster (Base), Car Type: SUV, Fuel: CNG, Region: South-West, City: Bangalore, Date: 2023-10-22, Amount: 3522282.92\n",
            "📍 City: Bangalore | 🚗 Model: Renault Duster\n",
            "🔍 Similarity Score: 0.02\n",
            "---\n"
          ]
        }
      ]
    },
    {
      "cell_type": "code",
      "source": [
        "results = customer_collection.query(\n",
        "    query_texts=[\"customers who prefer diesel SUV\"],\n",
        "    n_results=5,\n",
        "    where={\"$and\": [{\"preferred_cartype\": \"SUV\"}, {\"preferred_fuel_variant\": \"Diesel\"}]},\n",
        "    include=[\"documents\", \"metadatas\", \"distances\"]\n",
        ")\n",
        "\n",
        "for doc, meta, dist in zip(results[\"documents\"][0], results[\"metadatas\"][0], results[\"distances\"][0]):\n",
        "    print(\"🧑‍💼 Customer ID:\", meta.get('customer_id'))\n",
        "    print(\"🚙 Preferred Car:\", meta.get('preferred_model'), \"| 🔋 Fuel:\", meta.get('preferred_fuel_variant'))\n",
        "    print(f\"📝 Doc: {doc}\")\n",
        "    print(f\"🔍 Score: {round(1 - dist, 2)}\\n---\")\n"
      ],
      "metadata": {
        "colab": {
          "base_uri": "https://localhost:8080/"
        },
        "id": "ZdMSBtd1gsSd",
        "outputId": "7ffcdf4d-0a0c-4527-f690-484ed2190910"
      },
      "execution_count": 13,
      "outputs": [
        {
          "output_type": "stream",
          "name": "stdout",
          "text": [
            "🧑‍💼 Customer ID: CUST061\n",
            "🚙 Preferred Car: Maruti Suzuki Brezza | 🔋 Fuel: Diesel\n",
            "📝 Doc: Customer ID: CUST061, Age: 54, Gender: Other, Preferred Model: Maruti Suzuki Brezza (Mid), Car Type: SUV, Fuel: Diesel, Purchase Type: existing\n",
            "🔍 Score: -0.06\n",
            "---\n",
            "🧑‍💼 Customer ID: CUST168\n",
            "🚙 Preferred Car: Honda City | 🔋 Fuel: Diesel\n",
            "📝 Doc: Customer ID: CUST168, Age: 31, Gender: Other, Preferred Model: Honda City (Mid), Car Type: SUV, Fuel: Diesel, Purchase Type: existing\n",
            "🔍 Score: -0.08\n",
            "---\n",
            "🧑‍💼 Customer ID: CUST086\n",
            "🚙 Preferred Car: Toyota Fortuner | 🔋 Fuel: Diesel\n",
            "📝 Doc: Customer ID: CUST086, Age: 67, Gender: Male, Preferred Model: Toyota Fortuner (Top), Car Type: SUV, Fuel: Diesel, Purchase Type: existing\n",
            "🔍 Score: -0.1\n",
            "---\n",
            "🧑‍💼 Customer ID: CUST017\n",
            "🚙 Preferred Car: Renault Duster | 🔋 Fuel: Diesel\n",
            "📝 Doc: Customer ID: CUST017, Age: 32, Gender: Male, Preferred Model: Renault Duster (Base), Car Type: SUV, Fuel: Diesel, Purchase Type: new\n",
            "🔍 Score: -0.17\n",
            "---\n",
            "🧑‍💼 Customer ID: CUST027\n",
            "🚙 Preferred Car: Hyundai Creta | 🔋 Fuel: Diesel\n",
            "📝 Doc: Customer ID: CUST027, Age: 60, Gender: Other, Preferred Model: Hyundai Creta (Base), Car Type: SUV, Fuel: Diesel, Purchase Type: existing\n",
            "🔍 Score: -0.18\n",
            "---\n"
          ]
        }
      ]
    },
    {
      "cell_type": "code",
      "source": [
        "results = campaign_collection.query(\n",
        "    query_texts=[\"campaigns for hatchback cars with high discount\"],\n",
        "    n_results=5,\n",
        "    where={\"target_cartype\": \"Hatchback\"},\n",
        "    include=[\"documents\", \"metadatas\", \"distances\"]\n",
        ")\n",
        "\n",
        "for doc, meta, dist in zip(results[\"documents\"][0], results[\"metadatas\"][0], results[\"distances\"][0]):\n",
        "    print(\"📢 Campaign:\", meta.get('campaign_name'))\n",
        "    print(\"🎯 Target:\", meta.get('target_cartype'), \"| 💸 Discount:\", meta.get('discount_percent'))\n",
        "    print(f\"📝 Doc: {doc}\")\n",
        "    print(f\"🔍 Score: {round(1 - dist, 2)}\\n---\")\n"
      ],
      "metadata": {
        "colab": {
          "base_uri": "https://localhost:8080/"
        },
        "id": "NFIbJINxg4K8",
        "outputId": "43eb54c0-7d2c-455e-b194-569a1458e05e"
      },
      "execution_count": 14,
      "outputs": [
        {
          "output_type": "stream",
          "name": "stdout",
          "text": [
            "📢 Campaign: Electric Revolution Discount\n",
            "🎯 Target: Hatchback | 💸 Discount: 27.07\n",
            "📝 Doc: Campaign ID: CAMP031, Name: Electric Revolution Discount, Start: 2024-02-10, End: 2024-07-13, Channel: Billboards, Target Car: Hatchback, Audience: SUV Enthusiasts, Discount: 27.07%, Expected Sales: 135, Actual Sales: 112\n",
            "🔍 Score: 0.16\n",
            "---\n",
            "📢 Campaign: Electric Revolution Discount\n",
            "🎯 Target: Hatchback | 💸 Discount: 28.26\n",
            "📝 Doc: Campaign ID: CAMP044, Name: Electric Revolution Discount, Start: 2024-03-07, End: 2024-11-01, Channel: SMS, Target Car: Hatchback, Audience: SUV Enthusiasts, Discount: 28.26%, Expected Sales: 111, Actual Sales: 136\n",
            "🔍 Score: 0.13\n",
            "---\n",
            "📢 Campaign: Festive Offer\n",
            "🎯 Target: Hatchback | 💸 Discount: 24.66\n",
            "📝 Doc: Campaign ID: CAMP048, Name: Festive Offer, Start: 2023-12-07, End: 2025-02-04, Channel: TV, Target Car: Hatchback, Audience: First-Time Buyers, Discount: 24.66%, Expected Sales: 125, Actual Sales: 87\n",
            "🔍 Score: 0.12\n",
            "---\n",
            "📢 Campaign: Electric Revolution Discount\n",
            "🎯 Target: Hatchback | 💸 Discount: 23.63\n",
            "📝 Doc: Campaign ID: CAMP049, Name: Electric Revolution Discount, Start: 2024-08-27, End: 2024-10-26, Channel: Social Media, Target Car: Hatchback, Audience: City Commuters, Discount: 23.63%, Expected Sales: 330, Actual Sales: 224\n",
            "🔍 Score: 0.11\n",
            "---\n",
            "📢 Campaign: Summer Sale\n",
            "🎯 Target: Hatchback | 💸 Discount: 18.03\n",
            "📝 Doc: Campaign ID: CAMP004, Name: Summer Sale, Start: 2023-07-11, End: 2024-04-27, Channel: TV, Target Car: Hatchback, Audience: Luxury Car Owners, Discount: 18.03%, Expected Sales: 156, Actual Sales: 262\n",
            "🔍 Score: 0.1\n",
            "---\n"
          ]
        }
      ]
    },
    {
      "cell_type": "code",
      "source": [
        "# All embedded data is stored **locally** in a folder named 'chroma_db'\n",
        "# - This includes collections, embeddings, and metadata.\n",
        "# - ChromaDB supports persistent storage using SQLite + Parquet.\n",
        "# - Easy to move or sync this to cloud storage (e.g.S3) if needed later.\n",
        "\n",
        "import os\n",
        "\n",
        "for root, dirs, files in os.walk(\"chroma_db\"):\n",
        "    level = root.replace(\"chroma_db\", \"\").count(os.sep)\n",
        "    indent = \" \" * 4 * level\n",
        "    print(f\"{indent}{os.path.basename(root)}/\")\n",
        "    subindent = \" \" * 4 * (level + 1)\n",
        "    for f in files:\n",
        "        print(f\"{subindent}{f}\")\n",
        "\n"
      ],
      "metadata": {
        "colab": {
          "base_uri": "https://localhost:8080/"
        },
        "id": "NPbOrQA6iuEu",
        "outputId": "5aa904ba-1b9c-4089-d972-9dbb122347bc"
      },
      "execution_count": 18,
      "outputs": [
        {
          "output_type": "stream",
          "name": "stdout",
          "text": [
            "chroma_db/\n",
            "    chroma.sqlite3\n",
            "    f47c22ef-9311-43af-9329-623c8ffe0588/\n",
            "        link_lists.bin\n",
            "        data_level0.bin\n",
            "        length.bin\n",
            "        header.bin\n",
            "    39ac070e-b2ab-4a88-8510-b985bacc42b8/\n",
            "        link_lists.bin\n",
            "        data_level0.bin\n",
            "        length.bin\n",
            "        header.bin\n",
            "    378c924e-1b30-4ef4-9463-384c74ab38b6/\n",
            "        link_lists.bin\n",
            "        data_level0.bin\n",
            "        length.bin\n",
            "        header.bin\n"
          ]
        }
      ]
    }
  ]
}