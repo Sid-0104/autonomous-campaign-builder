{
  "nbformat": 4,
  "nbformat_minor": 0,
  "metadata": {
    "colab": {
      "provenance": []
    },
    "kernelspec": {
      "name": "python3",
      "display_name": "Python 3"
    },
    "language_info": {
      "name": "python"
    }
  },
  "cells": [
    {
      "cell_type": "code",
      "execution_count": 50,
      "metadata": {
        "colab": {
          "base_uri": "https://localhost:8080/"
        },
        "id": "CAS0r2adl3iG",
        "outputId": "4c9dd19a-780c-49a3-97cc-9adb008358d2"
      },
      "outputs": [
        {
          "output_type": "stream",
          "name": "stdout",
          "text": [
            "Requirement already satisfied: langgraph in /usr/local/lib/python3.11/dist-packages (0.3.25)\n",
            "Requirement already satisfied: langchain in /usr/local/lib/python3.11/dist-packages (0.3.22)\n",
            "Collecting tavily-python\n",
            "  Downloading tavily_python-0.5.4-py3-none-any.whl.metadata (91 kB)\n",
            "\u001b[2K     \u001b[90m━━━━━━━━━━━━━━━━━━━━━━━━━━━━━━━━━━━━━━━━\u001b[0m \u001b[32m91.6/91.6 kB\u001b[0m \u001b[31m2.7 MB/s\u001b[0m eta \u001b[36m0:00:00\u001b[0m\n",
            "\u001b[?25hRequirement already satisfied: openai in /usr/local/lib/python3.11/dist-packages (1.70.0)\n",
            "Requirement already satisfied: langchain-core<0.4,>=0.1 in /usr/local/lib/python3.11/dist-packages (from langgraph) (0.3.49)\n",
            "Requirement already satisfied: langgraph-checkpoint<3.0.0,>=2.0.10 in /usr/local/lib/python3.11/dist-packages (from langgraph) (2.0.24)\n",
            "Requirement already satisfied: langgraph-prebuilt<0.2,>=0.1.1 in /usr/local/lib/python3.11/dist-packages (from langgraph) (0.1.8)\n",
            "Requirement already satisfied: langgraph-sdk<0.2.0,>=0.1.42 in /usr/local/lib/python3.11/dist-packages (from langgraph) (0.1.61)\n",
            "Requirement already satisfied: xxhash<4.0.0,>=3.5.0 in /usr/local/lib/python3.11/dist-packages (from langgraph) (3.5.0)\n",
            "Requirement already satisfied: langchain-text-splitters<1.0.0,>=0.3.7 in /usr/local/lib/python3.11/dist-packages (from langchain) (0.3.7)\n",
            "Requirement already satisfied: langsmith<0.4,>=0.1.17 in /usr/local/lib/python3.11/dist-packages (from langchain) (0.3.22)\n",
            "Requirement already satisfied: pydantic<3.0.0,>=2.7.4 in /usr/local/lib/python3.11/dist-packages (from langchain) (2.11.1)\n",
            "Requirement already satisfied: SQLAlchemy<3,>=1.4 in /usr/local/lib/python3.11/dist-packages (from langchain) (2.0.40)\n",
            "Requirement already satisfied: requests<3,>=2 in /usr/local/lib/python3.11/dist-packages (from langchain) (2.32.3)\n",
            "Requirement already satisfied: PyYAML>=5.3 in /usr/local/lib/python3.11/dist-packages (from langchain) (6.0.2)\n",
            "Collecting tiktoken>=0.5.1 (from tavily-python)\n",
            "  Downloading tiktoken-0.9.0-cp311-cp311-manylinux_2_17_x86_64.manylinux2014_x86_64.whl.metadata (6.7 kB)\n",
            "Requirement already satisfied: httpx in /usr/local/lib/python3.11/dist-packages (from tavily-python) (0.28.1)\n",
            "Requirement already satisfied: anyio<5,>=3.5.0 in /usr/local/lib/python3.11/dist-packages (from openai) (4.9.0)\n",
            "Requirement already satisfied: distro<2,>=1.7.0 in /usr/local/lib/python3.11/dist-packages (from openai) (1.9.0)\n",
            "Requirement already satisfied: jiter<1,>=0.4.0 in /usr/local/lib/python3.11/dist-packages (from openai) (0.9.0)\n",
            "Requirement already satisfied: sniffio in /usr/local/lib/python3.11/dist-packages (from openai) (1.3.1)\n",
            "Requirement already satisfied: tqdm>4 in /usr/local/lib/python3.11/dist-packages (from openai) (4.67.1)\n",
            "Requirement already satisfied: typing-extensions<5,>=4.11 in /usr/local/lib/python3.11/dist-packages (from openai) (4.13.0)\n",
            "Requirement already satisfied: idna>=2.8 in /usr/local/lib/python3.11/dist-packages (from anyio<5,>=3.5.0->openai) (3.10)\n",
            "Requirement already satisfied: certifi in /usr/local/lib/python3.11/dist-packages (from httpx->tavily-python) (2025.1.31)\n",
            "Requirement already satisfied: httpcore==1.* in /usr/local/lib/python3.11/dist-packages (from httpx->tavily-python) (1.0.7)\n",
            "Requirement already satisfied: h11<0.15,>=0.13 in /usr/local/lib/python3.11/dist-packages (from httpcore==1.*->httpx->tavily-python) (0.14.0)\n",
            "Requirement already satisfied: tenacity!=8.4.0,<10.0.0,>=8.1.0 in /usr/local/lib/python3.11/dist-packages (from langchain-core<0.4,>=0.1->langgraph) (9.1.2)\n",
            "Requirement already satisfied: jsonpatch<2.0,>=1.33 in /usr/local/lib/python3.11/dist-packages (from langchain-core<0.4,>=0.1->langgraph) (1.33)\n",
            "Requirement already satisfied: packaging<25,>=23.2 in /usr/local/lib/python3.11/dist-packages (from langchain-core<0.4,>=0.1->langgraph) (24.2)\n",
            "Requirement already satisfied: ormsgpack<2.0.0,>=1.8.0 in /usr/local/lib/python3.11/dist-packages (from langgraph-checkpoint<3.0.0,>=2.0.10->langgraph) (1.9.1)\n",
            "Requirement already satisfied: orjson>=3.10.1 in /usr/local/lib/python3.11/dist-packages (from langgraph-sdk<0.2.0,>=0.1.42->langgraph) (3.10.16)\n",
            "Requirement already satisfied: requests-toolbelt<2.0.0,>=1.0.0 in /usr/local/lib/python3.11/dist-packages (from langsmith<0.4,>=0.1.17->langchain) (1.0.0)\n",
            "Requirement already satisfied: zstandard<0.24.0,>=0.23.0 in /usr/local/lib/python3.11/dist-packages (from langsmith<0.4,>=0.1.17->langchain) (0.23.0)\n",
            "Requirement already satisfied: annotated-types>=0.6.0 in /usr/local/lib/python3.11/dist-packages (from pydantic<3.0.0,>=2.7.4->langchain) (0.7.0)\n",
            "Requirement already satisfied: pydantic-core==2.33.0 in /usr/local/lib/python3.11/dist-packages (from pydantic<3.0.0,>=2.7.4->langchain) (2.33.0)\n",
            "Requirement already satisfied: typing-inspection>=0.4.0 in /usr/local/lib/python3.11/dist-packages (from pydantic<3.0.0,>=2.7.4->langchain) (0.4.0)\n",
            "Requirement already satisfied: charset-normalizer<4,>=2 in /usr/local/lib/python3.11/dist-packages (from requests<3,>=2->langchain) (3.4.1)\n",
            "Requirement already satisfied: urllib3<3,>=1.21.1 in /usr/local/lib/python3.11/dist-packages (from requests<3,>=2->langchain) (2.3.0)\n",
            "Requirement already satisfied: greenlet>=1 in /usr/local/lib/python3.11/dist-packages (from SQLAlchemy<3,>=1.4->langchain) (3.1.1)\n",
            "Requirement already satisfied: regex>=2022.1.18 in /usr/local/lib/python3.11/dist-packages (from tiktoken>=0.5.1->tavily-python) (2024.11.6)\n",
            "Requirement already satisfied: jsonpointer>=1.9 in /usr/local/lib/python3.11/dist-packages (from jsonpatch<2.0,>=1.33->langchain-core<0.4,>=0.1->langgraph) (3.0.0)\n",
            "Downloading tavily_python-0.5.4-py3-none-any.whl (44 kB)\n",
            "\u001b[2K   \u001b[90m━━━━━━━━━━━━━━━━━━━━━━━━━━━━━━━━━━━━━━━━\u001b[0m \u001b[32m44.4/44.4 kB\u001b[0m \u001b[31m2.8 MB/s\u001b[0m eta \u001b[36m0:00:00\u001b[0m\n",
            "\u001b[?25hDownloading tiktoken-0.9.0-cp311-cp311-manylinux_2_17_x86_64.manylinux2014_x86_64.whl (1.2 MB)\n",
            "\u001b[2K   \u001b[90m━━━━━━━━━━━━━━━━━━━━━━━━━━━━━━━━━━━━━━━━\u001b[0m \u001b[32m1.2/1.2 MB\u001b[0m \u001b[31m24.5 MB/s\u001b[0m eta \u001b[36m0:00:00\u001b[0m\n",
            "\u001b[?25hInstalling collected packages: tiktoken, tavily-python\n",
            "Successfully installed tavily-python-0.5.4 tiktoken-0.9.0\n"
          ]
        }
      ],
      "source": [
        "!pip install langgraph langchain tavily-python openai\n",
        "\n",
        "\n"
      ]
    },
    {
      "cell_type": "code",
      "source": [
        "from langgraph.graph import StateGraph, END\n",
        "from pydantic import BaseModel\n",
        "from tavily import TavilyClient\n",
        "import os\n",
        "\n",
        "# 👉 Set your Tavily API key\n",
        "os.environ[\"TAVILY_API_KEY\"] = \"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\"\n",
        "tavily = TavilyClient(api_key=os.environ[\"TAVILY_API_KEY\"])\n",
        "\n",
        "\n",
        "\n",
        "\n",
        "\n"
      ],
      "metadata": {
        "id": "A9G47av6mpXD"
      },
      "execution_count": 52,
      "outputs": []
    },
    {
      "cell_type": "code",
      "source": [
        "from pydantic import BaseModel, Field\n",
        "from typing import Optional, Dict\n",
        "import pandas as pd  # Add pandas to handle datasets\n",
        "\n",
        "# Define the CampaignState class\n",
        "class CampaignState(BaseModel):\n",
        "    goal: str\n",
        "    strategy: Dict[str, str]\n",
        "    search_results: Optional[str] = None\n",
        "    email_text: Optional[str] = None\n",
        "    chatbot_script: Optional[str] = None\n",
        "\n",
        "    class Config:\n",
        "        extra = \"allow\"  # 💡 allow extra fields if needed\n",
        "\n",
        "# Step 1: Load your datasets (example for sales.csv and customer.csv)\n",
        "sales_df = pd.read_csv('sales.csv')  # Adjust path as necessary\n",
        "customer_df = pd.read_csv('customer.csv')  # Adjust path as necessary\n",
        "\n",
        "# Step 2: Extract the necessary information from the datasets for the campaign\n",
        "# For example, you might extract a goal from sales or some other relevant data\n",
        "\n",
        "goal = \"Launch a festive offer on sedans for families\"  # Example goal, modify as per your logic\n",
        "\n",
        "# Example strategy could be based on your data:\n",
        "strategy = {\"discount\": \"15%\", \"region\": \"West India\"}\n",
        "\n",
        "# Example search results, email text, and chatbot script (you can pull these from the datasets too if needed)\n",
        "search_results = \"Competitor campaigns highlight the festive season with family offers.\"\n",
        "email_text = \"Special Offer: 15% off on sedans for families in West India!\"\n",
        "chatbot_script = \"🤖 Ask me about the 15% discount on sedans for families this festive season!\"\n",
        "\n",
        "# Step 3: Create the CampaignState instance using the extracted data\n",
        "campaign_state = CampaignState(\n",
        "    goal=goal,\n",
        "    strategy=strategy,\n",
        "    search_results=search_results,\n",
        "    email_text=email_text,\n",
        "    chatbot_script=chatbot_script\n",
        ")\n",
        "\n",
        "# Step 4: Use campaign_state as needed (e.g., for further processing or storing)\n",
        "print(campaign_state)\n",
        "\n",
        "\n",
        "\n",
        "\n",
        "\n"
      ],
      "metadata": {
        "colab": {
          "base_uri": "https://localhost:8080/"
        },
        "id": "nurIhAWZn_5-",
        "outputId": "7a9f8dce-5f3a-4043-d5e2-e1d83e794aac"
      },
      "execution_count": 70,
      "outputs": [
        {
          "output_type": "stream",
          "name": "stdout",
          "text": [
            "goal='Launch a festive offer on sedans for families' strategy={'discount': '15%', 'region': 'West India'} search_results='Competitor campaigns highlight the festive season with family offers.' email_text='Special Offer: 15% off on sedans for families in West India!' chatbot_script='🤖 Ask me about the 15% discount on sedans for families this festive season!'\n"
          ]
        }
      ]
    },
    {
      "cell_type": "code",
      "source": [
        "# 🕵️ Tavily search agent\n",
        "def search_competitors(state: CampaignState) -> CampaignState:\n",
        "    query = f\"Marketing campaigns for: {state.goal}\"\n",
        "    response = tavily.search(query=query, search_depth=\"advanced\")\n",
        "    result_text = response[\"results\"][0][\"content\"] if response[\"results\"] else \"No relevant campaigns found.\"\n",
        "    state.search_results = f\"🕵️ Competitor campaigns: {result_text}\"\n",
        "    return state\n",
        "\n",
        "# 📧 Email generator\n",
        "def generate_email(state: CampaignState) -> CampaignState:\n",
        "    state.email_text = (\n",
        "        f\"📧 Special Offer: {state.goal} in {state.strategy['region']} \"\n",
        "        f\"with {state.strategy['discount']} discount!\"\n",
        "    )\n",
        "    return state\n",
        "\n",
        "# 💬 Chatbot generator\n",
        "def generate_chatbot(state: CampaignState) -> CampaignState:\n",
        "    state.chatbot_script = (\n",
        "        f\"🤖 Hi! Interested in our new '{state.goal}'? Ask me anything!\"\n",
        "    )\n",
        "    return state\n",
        "\n",
        "\n",
        "\n"
      ],
      "metadata": {
        "id": "NLQIJT6ZpiJR"
      },
      "execution_count": 71,
      "outputs": []
    },
    {
      "cell_type": "code",
      "source": [
        "def build_smart_campaign_workflow():\n",
        "    workflow = StateGraph(CampaignState)\n",
        "\n",
        "    workflow.add_node(\"search_agent\", search_competitors)\n",
        "    workflow.add_node(\"email_generator\", generate_email)\n",
        "    workflow.add_node(\"chatbot_generator\", generate_chatbot)\n",
        "\n",
        "    workflow.set_entry_point(\"search_agent\")\n",
        "\n",
        "    workflow.add_edge(\"search_agent\", \"email_generator\")\n",
        "    workflow.add_edge(\"email_generator\", \"chatbot_generator\")\n",
        "    workflow.add_edge(\"chatbot_generator\", END)\n",
        "\n",
        "    return workflow.compile()\n",
        "\n",
        "\n",
        "\n",
        "\n"
      ],
      "metadata": {
        "id": "TsmW1Korp1DB"
      },
      "execution_count": 72,
      "outputs": []
    },
    {
      "cell_type": "code",
      "source": [
        "workflow = build_smart_campaign_workflow()\n",
        "initial_state = CampaignState(\n",
        "    goal=\"Launch a targeted campaign for Sedans in Kolkata based on recent sales data\",\n",
        "    strategy={\"region\": \"South India\", \"discount\": \"10%\"}\n",
        ")\n",
        "\n",
        "final_state = workflow.invoke(initial_state)\n",
        "from collections import OrderedDict\n",
        "from pprint import pprint\n",
        "\n",
        "# Convert final_state to a dict (if it's not already)\n",
        "final_dict = dict(final_state)\n",
        "\n",
        "# Reorder the keys so 'goal' and 'strategy' are first\n",
        "ordered_output = OrderedDict([\n",
        "    ('goal', final_dict.get('goal')),\n",
        "    ('strategy', final_dict.get('strategy')),\n",
        "    ('search_results', final_dict.get('search_results')),\n",
        "    ('email_text', final_dict.get('email_text')),\n",
        "    ('chatbot_script', final_dict.get('chatbot_script')),\n",
        "])\n",
        "\n",
        "# Print the result\n",
        "pprint(ordered_output)\n",
        "\n",
        "\n",
        "\n",
        "\n",
        "\n"
      ],
      "metadata": {
        "colab": {
          "base_uri": "https://localhost:8080/"
        },
        "id": "9OZCAa0dp3dT",
        "outputId": "e33664a2-18af-4ef8-f540-c7905adc2a5a"
      },
      "execution_count": 79,
      "outputs": [
        {
          "output_type": "stream",
          "name": "stdout",
          "text": [
            "OrderedDict([('goal',\n",
            "              'Launch a targeted campaign for Sedans in Kolkata based on '\n",
            "              'recent sales data'),\n",
            "             ('strategy', {'discount': '10%', 'region': 'South India'}),\n",
            "             ('search_results',\n",
            "              \"🕵️ Competitor campaigns: Discover Kolkata's best-selling used \"\n",
            "              'sedans in 2024. The Honda City leads with a 22% share; Explore '\n",
            "              'key market trends and buyer preferences.'),\n",
            "             ('email_text',\n",
            "              '📧 Special Offer: Launch a targeted campaign for Sedans in '\n",
            "              'Kolkata based on recent sales data in South India with 10% '\n",
            "              'discount!'),\n",
            "             ('chatbot_script',\n",
            "              \"🤖 Hi! Interested in our new 'Launch a targeted campaign for \"\n",
            "              \"Sedans in Kolkata based on recent sales data'? Ask me \"\n",
            "              'anything!')])\n"
          ]
        }
      ]
    },
    {
      "cell_type": "code",
      "source": [
        "workflow = build_smart_campaign_workflow()\n",
        "initial_state = CampaignState(\n",
        "    goal=\"Promote a summer sale on SUVs for families in tier-1 cities\",\n",
        "    strategy={\"region\": \"East India\", \"discount\": \"20%\"}\n",
        ")\n",
        "\n",
        "final_state = workflow.invoke(initial_state)\n",
        "from collections import OrderedDict\n",
        "from pprint import pprint\n",
        "\n",
        "# Convert final_state to a dict (if it's not already)\n",
        "final_dict = dict(final_state)\n",
        "\n",
        "# Reorder the keys so 'goal' and 'strategy' are first\n",
        "ordered_output = OrderedDict([\n",
        "    ('goal', final_dict.get('goal')),\n",
        "    ('strategy', final_dict.get('strategy')),\n",
        "    ('search_results', final_dict.get('search_results')),\n",
        "    ('email_text', final_dict.get('email_text')),\n",
        "    ('chatbot_script', final_dict.get('chatbot_script')),\n",
        "])\n",
        "\n",
        "# Print the result\n",
        "pprint(ordered_output)"
      ],
      "metadata": {
        "colab": {
          "base_uri": "https://localhost:8080/"
        },
        "id": "GivSXCxu65eK",
        "outputId": "77cfe367-8c70-4e4a-8ed6-041e21a21fef"
      },
      "execution_count": 80,
      "outputs": [
        {
          "output_type": "stream",
          "name": "stdout",
          "text": [
            "OrderedDict([('goal',\n",
            "              'Promote a summer sale on SUVs for families in tier-1 cities'),\n",
            "             ('strategy', {'discount': '20%', 'region': 'East India'}),\n",
            "             ('search_results',\n",
            "              '🕵️ Competitor campaigns: Offer package deals on family-friendly '\n",
            "              'vehicles, emphasizing features like spacious interiors, safety, '\n",
            "              'and entertainment systems. You could also'),\n",
            "             ('email_text',\n",
            "              '📧 Special Offer: Promote a summer sale on SUVs for families in '\n",
            "              'tier-1 cities in East India with 20% discount!'),\n",
            "             ('chatbot_script',\n",
            "              \"🤖 Hi! Interested in our new 'Promote a summer sale on SUVs for \"\n",
            "              \"families in tier-1 cities'? Ask me anything!\")])\n"
          ]
        }
      ]
    }
  ]
}