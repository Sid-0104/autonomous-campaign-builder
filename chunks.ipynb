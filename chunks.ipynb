{
 "cells": [
  {
   "cell_type": "code",
   "execution_count": null,
   "metadata": {},
   "outputs": [],
   "source": [
    "! pip install tiktoken\n"
   ]
  },
  {
   "cell_type": "code",
   "execution_count": null,
   "metadata": {},
   "outputs": [],
   "source": [
    "! pip install -U sentence-transformers langchain chromadb transformers==4.34.1\n"
   ]
  },
  {
   "cell_type": "code",
   "execution_count": 3,
   "metadata": {},
   "outputs": [],
   "source": [
    "import os\n",
    "import pandas as pd\n",
    "from langchain_community.embeddings import HuggingFaceEmbeddings\n",
    "from langchain.text_splitter import RecursiveCharacterTextSplitter\n",
    "from langchain.schema import Document\n",
    "from langchain.vectorstores import Chroma\n",
    "from langchain.docstore.document import Document\n",
    "from dotenv import load_dotenv\n",
    "import shutil"
   ]
  },
  {
   "cell_type": "code",
   "execution_count": 13,
   "metadata": {},
   "outputs": [],
   "source": [
    "def format_sales_content(row):\n",
    "    content = (\n",
    "        f\"Sale ID: {row['sale_id']}, \"\n",
    "        f\"Customer ID: {row['customer_id']}, \"\n",
    "        f\"Model: {row['model']} ({row['model_variant']}), \"\n",
    "        f\"Car Type: {row['car_type']}, \"\n",
    "        f\"Fuel: {row['fuel_variant']}, \"\n",
    "        f\"Region: {row['region']}, City: {row['city']}, \"\n",
    "        f\"Date: {row['sale_date']}, Amount: {row['sale_amount']}\"\n",
    "    )\n",
    "    return content"
   ]
  },
  {
   "cell_type": "code",
   "execution_count": 14,
   "metadata": {},
   "outputs": [],
   "source": [
    "def format_marketing_content(row):\n",
    "    content = (\n",
    "        f\"Campaign: {row['campaign_name']} (ID: {row['campaign_id']}), \"\n",
    "        f\"Dates: {row['start_date']} to {row['end_date']}, \"\n",
    "        f\"Channel: {row['marketing_channel']}, \"\n",
    "        f\"Target: {row['target_audience']} interested in {row['target_cartype']}, \"\n",
    "        f\"Discount: {row['discount_percent']}%, \"\n",
    "        f\"Expected Sales: {row['expected_sales']}, Actual Sales: {row['actual_sales']}\"\n",
    "    )\n",
    "    return content"
   ]
  },
  {
   "cell_type": "code",
   "execution_count": 15,
   "metadata": {},
   "outputs": [],
   "source": [
    "def format_customer_content(row):\n",
    "    content = (\n",
    "        f\"Customer ID: {row['customer_id']}, \"\n",
    "        f\"Age: {row['age']}, Gender: {row['gender']}, \"\n",
    "        f\"Preferred Model: {row['preferred_model']} ({row['preferred_model_variant']}), \"\n",
    "        f\"Car Type: {row['preferred_cartype']}, \"\n",
    "        f\"Fuel Variant: {row['preferred_fuel_variant']}, \"\n",
    "        f\"Purchase Type: {row['purchase_type']}\"\n",
    "    )\n",
    "    return content"
   ]
  },
  {
   "cell_type": "code",
   "execution_count": 16,
   "metadata": {},
   "outputs": [],
   "source": [
    "\n",
    "\n",
    "def load_csvs_to_documents(file_paths):\n",
    "    all_docs = []\n",
    "    \n",
    "    for path in file_paths:\n",
    "        df = pd.read_csv(path)\n",
    "        source_name = os.path.basename(path).replace(\".csv\", \"\")\n",
    "        \n",
    "        for _, row in df.iterrows():\n",
    "            if source_name == \"sales\":\n",
    "                content = format_sales_content(row)\n",
    "                metadata = {\n",
    "                    \"source\": source_name,\n",
    "                    \"region\": row.get(\"region\", \"\"),\n",
    "                    \"city\": row.get(\"city\", \"\"),\n",
    "                    \"fuel_variant\": row.get(\"fuel_variant\", \"\"),\n",
    "                    \"car_type\": row.get(\"car_type\", \"\")\n",
    "                }\n",
    "            \n",
    "            elif source_name == \"marketing_campaign\":\n",
    "                content = format_marketing_content(row)\n",
    "                metadata = {\n",
    "                    \"source\": source_name,\n",
    "                    \"channel\": row.get(\"marketing_channel\", \"\"),\n",
    "                    \"target_cartype\": row.get(\"target_cartype\", \"\"),\n",
    "                    \"discount\": row.get(\"discount_percent\", \"\"),\n",
    "                    \"start_date\": row.get(\"start_date\", \"\"),\n",
    "                    \"end_date\": row.get(\"end_date\", \"\")\n",
    "                }\n",
    "\n",
    "            elif source_name == \"customer\":\n",
    "                content = format_customer_content(row)\n",
    "                metadata = {\n",
    "                    \"source\": source_name,\n",
    "                    \"age\": row.get(\"age\", \"\"),\n",
    "                    \"gender\": row.get(\"gender\", \"\"),\n",
    "                    \"preferred_model\": row.get(\"preferred_model\", \"\"),\n",
    "                    \"preferred_fuel_variant\": row.get(\"preferred_fuel_variant\", \"\"),\n",
    "                    \"purchase_type\": row.get(\"purchase_type\", \"\")\n",
    "                }\n",
    "            \n",
    "            else:\n",
    "                content = \"\\n\".join(f\"{col}: {row[col]}\" for col in df.columns)\n",
    "                metadata = {\"source\": source_name}\n",
    "\n",
    "            all_docs.append(Document(page_content=content, metadata=metadata))\n",
    "\n",
    "    return all_docs\n"
   ]
  },
  {
   "cell_type": "code",
   "execution_count": 5,
   "metadata": {},
   "outputs": [],
   "source": [
    "#Chunk documents\n",
    "def chunk_documents(docs, chunk_size=500, chunk_overlap=50):\n",
    "    splitter = RecursiveCharacterTextSplitter(chunk_size=chunk_size, chunk_overlap=chunk_overlap)\n",
    "    return splitter.split_documents(docs)"
   ]
  },
  {
   "cell_type": "code",
   "execution_count": 6,
   "metadata": {},
   "outputs": [],
   "source": [
    "def create_chroma_index(chunks, persist_dir=\"chroma_db\"):\n",
    "    # Clean old DB if needed\n",
    "    import shutil\n",
    "    shutil.rmtree(persist_dir, ignore_errors=True)\n",
    "\n",
    "    embedding_model = HuggingFaceEmbeddings(\n",
    "    model_name=\"sentence-transformers/all-MiniLM-L6-v2\")\n",
    "\n",
    "\n",
    "    vectordb = Chroma.from_documents(\n",
    "        documents=chunks,\n",
    "        embedding=embedding_model,\n",
    "        persist_directory=persist_dir\n",
    "    )\n",
    "    vectordb.persist()\n",
    "    return vectordb\n"
   ]
  },
  {
   "cell_type": "code",
   "execution_count": 7,
   "metadata": {},
   "outputs": [],
   "source": [
    "# ----------- Main Execution-----------\n",
    "csv_files = [\n",
    "        r\"C:\\Users\\Dell\\Downloads\\customer.csv\",\n",
    "        r\"C:\\Users\\Dell\\Downloads\\sales.csv\",\n",
    "        r\"C:\\Users\\Dell\\Downloads\\marketing_campaign.csv\"\n",
    "    ]\n",
    "\n",
    "\n",
    "\n",
    "    \n",
    "    "
   ]
  },
  {
   "cell_type": "code",
   "execution_count": 17,
   "metadata": {},
   "outputs": [
    {
     "name": "stderr",
     "output_type": "stream",
     "text": [
      "C:\\Users\\Dell\\AppData\\Local\\Temp\\ipykernel_10940\\1832162039.py:6: LangChainDeprecationWarning: The class `HuggingFaceEmbeddings` was deprecated in LangChain 0.2.2 and will be removed in 1.0. An updated version of the class exists in the :class:`~langchain-huggingface package and should be used instead. To use it run `pip install -U :class:`~langchain-huggingface` and import as `from :class:`~langchain_huggingface import HuggingFaceEmbeddings``.\n",
      "  embedding_model = HuggingFaceEmbeddings(\n",
      "d:\\autonomous_campaign_builder\\venv\\Lib\\site-packages\\sentence_transformers\\cross_encoder\\CrossEncoder.py:11: TqdmWarning: IProgress not found. Please update jupyter and ipywidgets. See https://ipywidgets.readthedocs.io/en/stable/user_install.html\n",
      "  from tqdm.autonotebook import tqdm, trange\n",
      "d:\\autonomous_campaign_builder\\venv\\Lib\\site-packages\\transformers\\utils\\generic.py:311: FutureWarning: `torch.utils._pytree._register_pytree_node` is deprecated. Please use `torch.utils._pytree.register_pytree_node` instead.\n",
      "  torch.utils._pytree._register_pytree_node(\n",
      "d:\\autonomous_campaign_builder\\venv\\Lib\\site-packages\\transformers\\utils\\generic.py:311: FutureWarning: `torch.utils._pytree._register_pytree_node` is deprecated. Please use `torch.utils._pytree.register_pytree_node` instead.\n",
      "  torch.utils._pytree._register_pytree_node(\n",
      "C:\\Users\\Dell\\AppData\\Local\\Temp\\ipykernel_10940\\1832162039.py:15: LangChainDeprecationWarning: Since Chroma 0.4.x the manual persistence method is no longer supported as docs are automatically persisted.\n",
      "  vectordb.persist()\n"
     ]
    }
   ],
   "source": [
    "# Load → Chunk → Store\n",
    "all_documents = []\n",
    "all_documents = load_csvs_to_documents(csv_files)\n",
    "chunks = chunk_documents(all_documents)\n",
    "chroma_db = create_chroma_index(chunks)"
   ]
  },
  {
   "cell_type": "code",
   "execution_count": 35,
   "metadata": {},
   "outputs": [],
   "source": [
    "def query_chroma(vectordb, query_text, k=5, source=None, channel=None):\n",
    "    # Build filter dynamically using $and\n",
    "    where_filters = []\n",
    "    if source:\n",
    "        where_filters.append({\"source\": source})\n",
    "    if channel:\n",
    "        where_filters.append({\"channel\": channel})\n",
    "    \n",
    "    filter_dict = {\"$and\": where_filters} if where_filters else None\n",
    "\n",
    "    results = vectordb.similarity_search(query_text, k=k, filter=filter_dict)\n",
    "\n",
    "    for i, result in enumerate(results):\n",
    "        print(f\"\\nResult {i+1} (Source: {result.metadata.get('source')}):\\n{result.page_content}\")\n"
   ]
  },
  {
   "cell_type": "code",
   "execution_count": 37,
   "metadata": {},
   "outputs": [
    {
     "name": "stdout",
     "output_type": "stream",
     "text": [
      "\n",
      "Result 1 (Source: marketing_campaign):\n",
      "Campaign: Festive Offer (ID: CAMPAIGN043), Dates: 2024-08-03 to 2025-06-27, Channel: Social Media, Target: Young Professionals interested in SUV , Discount: 10%%, Expected Sales: 188, Actual Sales: 53\n",
      "\n",
      "Result 2 (Source: marketing_campaign):\n",
      "Campaign: Festive Offer (ID: CAMPAIGN063), Dates: 2025-01-26 to 2025-06-06, Channel: Social Media, Target: Luxury Car Owners interested in SUV , Discount: 25%%, Expected Sales: 349, Actual Sales: 439\n",
      "\n",
      "Result 3 (Source: marketing_campaign):\n",
      "Campaign: New Launch Discount (ID: CAMPAIGN036), Dates: 2025-02-05 to 2025-06-10, Channel: Social Media, Target: Budget Buyers interested in SUV , Discount: 20%%, Expected Sales: 127, Actual Sales: 319\n",
      "\n",
      "Result 4 (Source: marketing_campaign):\n",
      "Campaign: Summer Sale 2025 (ID: CAMPAIGN074), Dates: 2024-09-07 to 2025-06-20, Channel: Social Media, Target: Luxury Car Owners interested in SUV , Discount: 25%%, Expected Sales: 344, Actual Sales: 218\n",
      "\n",
      "Result 5 (Source: marketing_campaign):\n",
      "Campaign: New Launch Discount (ID: CAMPAIGN080), Dates: 2024-09-08 to 2025-06-04, Channel: Social Media, Target: Young Professionals interested in Sedan, Discount: 15%%, Expected Sales: 150, Actual Sales: 339\n"
     ]
    }
   ],
   "source": [
    "query_chroma(\n",
    "    chroma_db,\n",
    "    query_text=\"show campaign using marketing_channel socialmedia\",\n",
    "    k=5,\n",
    "    source=\"marketing_campaign\",\n",
    "    channel=\"Social Media\"\n",
    ")\n"
   ]
  }
 ],
 "metadata": {
  "kernelspec": {
   "display_name": "venv",
   "language": "python",
   "name": "python3"
  },
  "language_info": {
   "codemirror_mode": {
    "name": "ipython",
    "version": 3
   },
   "file_extension": ".py",
   "mimetype": "text/x-python",
   "name": "python",
   "nbconvert_exporter": "python",
   "pygments_lexer": "ipython3",
   "version": "3.11.7"
  }
 },
 "nbformat": 4,
 "nbformat_minor": 2
}
