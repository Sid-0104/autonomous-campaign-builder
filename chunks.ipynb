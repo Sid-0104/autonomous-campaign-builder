{
 "cells": [
  {
   "cell_type": "code",
   "execution_count": null,
   "metadata": {},
   "outputs": [],
   "source": [
    "! pip install chromadb\n"
   ]
  },
  {
   "cell_type": "code",
   "execution_count": null,
   "metadata": {},
   "outputs": [],
   "source": [
    "! pip install tiktoken\n"
   ]
  },
  {
   "cell_type": "code",
   "execution_count": null,
   "metadata": {},
   "outputs": [],
   "source": [
    "! pip install python-dotenv\n"
   ]
  },
  {
   "cell_type": "code",
   "execution_count": 4,
   "metadata": {},
   "outputs": [],
   "source": [
    "import os\n",
    "import pandas as pd\n",
    "from langchain.embeddings import OpenAIEmbeddings\n",
    "from langchain.text_splitter import RecursiveCharacterTextSplitter\n",
    "from langchain.schema import Document\n",
    "from langchain.vectorstores import Chroma\n",
    "from langchain.docstore.document import Document\n",
    "from dotenv import load_dotenv\n",
    "import shutil"
   ]
  },
  {
   "cell_type": "code",
   "execution_count": 5,
   "metadata": {},
   "outputs": [
    {
     "data": {
      "text/plain": [
       "True"
      ]
     },
     "execution_count": 5,
     "metadata": {},
     "output_type": "execute_result"
    }
   ],
   "source": [
    "load_dotenv()"
   ]
  },
  {
   "cell_type": "code",
   "execution_count": null,
   "metadata": {},
   "outputs": [],
   "source": [
    "# Set OpenAI API key\n",
    "os.environ[\"OPENAI_API_KEY\"] = \"OPEN_KEY\""
   ]
  },
  {
   "cell_type": "code",
   "execution_count": 7,
   "metadata": {},
   "outputs": [],
   "source": [
    "def format_sales_content(row):\n",
    "    return (\n",
    "        f\"On {row['sale_date']}, a {row['fuel_variant']} {row['model']} ({row['car_type']} - {row['model_variant']} variant) was sold in {row['city']} ({row['region']} region) for ₹{row['sale_amount']}.\"\n",
    "    )\n",
    "\n",
    "def format_marketing_content(row):\n",
    "    return (\n",
    "        f\"{row['marketing_channel']} campaign '{row['campaign_name']}' targeting {row['target_cartype']}s for {row['target_audience']} offered a {row['discount_percent']}% discount and had {row['actual_sales']} actual sales.\"\n",
    "    )\n",
    "\n",
    "def format_customer_content(row):\n",
    "    return (\n",
    "        f\"Customer {row['customer_id']} is a {row['age']}-year-old {row['gender']} who prefers {row['preferred_fuel_variant']} {row['preferred_model']} ({row['preferred_cartype']} - {row['preferred_model_variant']} variant). Purchase type: {row['purchase_type']}.\"\n",
    "    )\n",
    "#CSV Loader with Format Routing\n",
    "def load_csvs_to_documents(file_paths):\n",
    "    all_docs = []\n",
    "    for path in file_paths:\n",
    "        df = pd.read_csv(path)\n",
    "        source_name = os.path.basename(path).replace(\".csv\", \"\")\n",
    "        for _, row in df.iterrows():\n",
    "            if source_name == \"sales\":\n",
    "                content = format_sales_content(row)\n",
    "            elif source_name == \"marketing_campaign\":\n",
    "                content = format_marketing_content(row)\n",
    "            elif source_name == \"customer\":\n",
    "                content = format_customer_content(row)\n",
    "            else:\n",
    "                content = \"\\n\".join(f\"{col}: {row[col]}\" for col in df.columns)\n",
    "            all_docs.append(Document(page_content=content, metadata={\"source\": source_name}))\n",
    "    return all_docs"
   ]
  },
  {
   "cell_type": "code",
   "execution_count": 8,
   "metadata": {},
   "outputs": [],
   "source": [
    "#Chunk documents\n",
    "def chunk_documents(docs, chunk_size=500, chunk_overlap=50):\n",
    "    splitter = RecursiveCharacterTextSplitter(chunk_size=chunk_size, chunk_overlap=chunk_overlap)\n",
    "    return splitter.split_documents(docs)"
   ]
  },
  {
   "cell_type": "code",
   "execution_count": 9,
   "metadata": {},
   "outputs": [],
   "source": [
    "def create_chroma_index(chunks, persist_dir=\"chroma_db\"):\n",
    "    # Clean old DB if needed\n",
    "    import shutil\n",
    "    shutil.rmtree(persist_dir, ignore_errors=True)\n",
    "\n",
    "    embedding_model = OpenAIEmbeddings()\n",
    "\n",
    "    vectordb = Chroma.from_documents(\n",
    "        documents=chunks,\n",
    "        embedding=embedding_model,\n",
    "        persist_directory=persist_dir\n",
    "    )\n",
    "    vectordb.persist()\n",
    "    return vectordb\n"
   ]
  },
  {
   "cell_type": "code",
   "execution_count": 10,
   "metadata": {},
   "outputs": [],
   "source": [
    "# Query the ChromaDB\n",
    "def query_chroma(vectordb, query_text, k=5, filters=None):\n",
    "    results = vectordb.similarity_search(query_text, k=k, filter={\"source\": \"marketing_campaign\"})\n",
    "    for i, result in enumerate(results):\n",
    "        print(f\"\\n Result {i+1}:\\n{result.page_content}\")\n",
    "        "
   ]
  },
  {
   "cell_type": "code",
   "execution_count": 11,
   "metadata": {},
   "outputs": [],
   "source": [
    "# ----------- Main Execution-----------\n",
    "csv_files = [\n",
    "        r\"C:\\Users\\Dell\\Downloads\\customer.csv\",\n",
    "        r\"C:\\Users\\Dell\\Downloads\\sales.csv\",\n",
    "        r\"C:\\Users\\Dell\\Downloads\\marketing_campaign.csv\"\n",
    "    ]\n",
    "\n",
    "\n",
    "\n",
    "    \n",
    "    "
   ]
  },
  {
   "cell_type": "code",
   "execution_count": null,
   "metadata": {},
   "outputs": [],
   "source": [
    "# Load → Chunk → Store\n",
    "all_documents = []\n",
    "all_documents = load_csvs_to_documents(csv_files)\n",
    "chunks = chunk_documents(all_documents)\n",
    "chroma_db = create_chroma_index(chunks)"
   ]
  },
  {
   "cell_type": "code",
   "execution_count": 13,
   "metadata": {},
   "outputs": [
    {
     "name": "stdout",
     "output_type": "stream",
     "text": [
      "\n",
      " Result 1:\n",
      "Social Media campaign 'End of Year Bonanza' targeting SUV s for Young Professionals offered a 20%% discount and had 356 actual sales.\n",
      "\n",
      " Result 2:\n",
      "TV campaign 'End of Year Bonanza' targeting SUV s for Luxury Car Owners offered a 30%% discount and had 108 actual sales.\n",
      "\n",
      " Result 3:\n",
      "SMS campaign 'End of Year Bonanza' targeting SUV s for Luxury Car Owners offered a 25%% discount and had 409 actual sales.\n",
      "\n",
      " Result 4:\n",
      "Social Media campaign 'End of Year Bonanza' targeting SUV s for Budget Buyers offered a 10%% discount and had 58 actual sales.\n",
      "\n",
      " Result 5:\n",
      "Email campaign 'End of Year Bonanza' targeting SUV s for Young Professionals offered a 30%% discount and had 244 actual sales.\n"
     ]
    }
   ],
   "source": [
    "# Sample query\n",
    "query_chroma(chroma_db, \"SUV campaigns in West region for End of Year Bonanza\")"
   ]
  }
 ],
 "metadata": {
  "kernelspec": {
   "display_name": "venv",
   "language": "python",
   "name": "python3"
  },
  "language_info": {
   "codemirror_mode": {
    "name": "ipython",
    "version": 3
   },
   "file_extension": ".py",
   "mimetype": "text/x-python",
   "name": "python",
   "nbconvert_exporter": "python",
   "pygments_lexer": "ipython3",
   "version": "3.11.7"
  }
 },
 "nbformat": 4,
 "nbformat_minor": 2
}
